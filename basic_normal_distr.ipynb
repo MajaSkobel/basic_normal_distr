{
 "cells": [
  {
   "cell_type": "code",
   "execution_count": 1,
   "id": "f881d604-4977-4730-a47a-d2971c18af4c",
   "metadata": {},
   "outputs": [],
   "source": [
    "import numpy as np\n",
    "import pandas as pd\n",
    "import matplotlib.pyplot as plt\n",
    "import seaborn as sns\n",
    "from scipy import stats\n",
    "from sklearn.preprocessing import StandardScaler, MinMaxScaler"
   ]
  },
  {
   "cell_type": "code",
   "execution_count": 28,
   "id": "998f4f28-27ba-4271-b25d-5a6d180245bc",
   "metadata": {},
   "outputs": [],
   "source": [
    "data_100 = np.random.normal(loc=3, scale=1, size=100)\n",
    "data_10000 = np.random.normal(loc=3, scale=1, size=10000)"
   ]
  },
  {
   "cell_type": "code",
   "execution_count": 31,
   "id": "1b15a879-50ee-4165-af14-06b2fc737bc0",
   "metadata": {},
   "outputs": [
    {
     "data": {
      "image/png": "[encoded data removed]",
      "text/plain": [
       "<Figure size 1200x500 with 2 Axes>"
      ]
     },
     "metadata": {},
     "output_type": "display_data"
    }
   ],
   "source": [
    "fig, (ax1, ax2) = plt.subplots(1, 2, figsize=(12, 5))\n",
    "\n",
    "ax1.hist(data_100, bins=30, color='blue')\n",
    "ax1.set_title('Rozkład dla 100 próbek')\n",
    "\n",
    "ax2.hist(data_10000, bins=30, color='red')\n",
    "ax2.set_title('Rozkład dla 10 000 próbek')\n",
    "\n",
    "plt.show()"
   ]
  },
  {
   "cell_type": "code",
   "execution_count": 57,
   "id": "6b56bd2a-fe1e-49ba-aa1d-cdfb98159e97",
   "metadata": {},
   "outputs": [],
   "source": [
    "def basic_stats(data):\n",
    "    print(f\"\"\"\n",
    "    Ilość danych: {len(data)}\n",
    "    Średnia: {np.round(np.mean(data),6)}\n",
    "    Moda: {np.round(stats.mode(data),6)}\n",
    "    Q0: {np.round(min(data),6)}\n",
    "    Q1: {np.round(np.quantile(data, 0.25),6)}\n",
    "    Mediana: {np.round(np.median(data),6)}\n",
    "    Q3: {np.round(np.quantile(data, 0.75),6)}\n",
    "    Q4: {np.round(max(data),6)}\n",
    "    IQR: {np.round(np.quantile(data, 0.75)-np.quantile(data, 0.25),6)}\n",
    "    Zakres: {np.round(max(data)-min(data),6)}\n",
    "    Wariacja: {np.round(np.var(data, ddof=1),6)}\n",
    "    Odchylenie standardowe: {np.round(np.std(data, ddof=1),6)}\"\"\")"
   ]
  },
  {
   "cell_type": "code",
   "execution_count": 59,
   "id": "750d7b41-2ce1-41d0-a178-e5598dc39706",
   "metadata": {},
   "outputs": [
    {
     "name": "stdout",
     "output_type": "stream",
     "text": [
      "\n",
      "    Ilość danych: 100\n",
      "    Średnia: 2.89997\n",
      "    Moda: [0.385641 1.      ]\n",
      "    Q0: 0.385641\n",
      "    Q1: 2.360802\n",
      "    Mediana: 2.907069\n",
      "    Q3: 3.433815\n",
      "    Q4: 5.060174\n",
      "    IQR: 1.073012\n",
      "    Zakres: 4.674532\n",
      "    Wariacja: 1.02134\n",
      "    Odchylenie standardowe: 1.010614\n"
     ]
    }
   ],
   "source": [
    "basic_stats(data_100)"
   ]
  },
  {
   "cell_type": "code",
   "execution_count": 60,
   "id": "a5804c2c-7662-4bf6-9620-cf69f5410b03",
   "metadata": {},
   "outputs": [
    {
     "name": "stdout",
     "output_type": "stream",
     "text": [
      "\n",
      "    Ilość danych: 10000\n",
      "    Średnia: 2.988314\n",
      "    Moda: [-0.746128  1.      ]\n",
      "    Q0: -0.746128\n",
      "    Q1: 2.321788\n",
      "    Mediana: 2.995427\n",
      "    Q3: 3.662153\n",
      "    Q4: 6.261307\n",
      "    IQR: 1.340364\n",
      "    Zakres: 7.007435\n",
      "    Wariacja: 0.983179\n",
      "    Odchylenie standardowe: 0.991554\n"
     ]
    }
   ],
   "source": [
    "basic_stats(data_10000)"
   ]
  },
  {
   "cell_type": "code",
   "execution_count": 75,
   "id": "ddbd9e17-f31a-4303-b0ea-bf2606f7f539",
   "metadata": {},
   "outputs": [
    {
     "data": {
      "text/plain": [
       "np.float64(3.334)"
      ]
     },
     "execution_count": 75,
     "metadata": {},
     "output_type": "execute_result"
    }
   ],
   "source": [
    "#Procentowy błąd od prawdziwej średniej 3\n",
    "round((abs(np.mean(data_100)-3))/3*100,3)"
   ]
  },
  {
   "cell_type": "code",
   "execution_count": 76,
   "id": "b02d86df-089a-422e-a6ce-4fa4c9dda9c6",
   "metadata": {},
   "outputs": [
    {
     "data": {
      "text/plain": [
       "np.float64(0.39)"
      ]
     },
     "execution_count": 76,
     "metadata": {},
     "output_type": "execute_result"
    }
   ],
   "source": [
    "round((abs(np.mean(data_10000)-3))/3*100,3)"
   ]
  },
  {
   "cell_type": "code",
   "execution_count": 77,
   "id": "9f90cdb7-d549-4f3b-9103-04f6fb06440b",
   "metadata": {},
   "outputs": [
    {
     "data": {
      "text/plain": [
       "np.float64(0.555)"
      ]
     },
     "execution_count": 77,
     "metadata": {},
     "output_type": "execute_result"
    }
   ],
   "source": [
    "#Procentowy błąd od prawdziwego odchylenia standardowego 1\n",
    "round((abs(np.std(data_100)-1))*100,3)"
   ]
  },
  {
   "cell_type": "code",
   "execution_count": 78,
   "id": "e3462166-6437-418e-951b-482e059150ce",
   "metadata": {},
   "outputs": [
    {
     "data": {
      "text/plain": [
       "np.float64(0.85)"
      ]
     },
     "execution_count": 78,
     "metadata": {},
     "output_type": "execute_result"
    }
   ],
   "source": [
    "round((abs(np.std(data_10000)-1))*100,3)"
   ]
  },
  {
   "cell_type": "code",
   "execution_count": 79,
   "id": "6edca169-a090-4b54-bb7f-1eaa6503c4d2",
   "metadata": {},
   "outputs": [],
   "source": [
    "#Wyniki analizy nie są zaskakujące, jakoże większa ilość obserwacji sprawia, że rozkład dokładniej przypomina\n",
    "#wzorowy rozkład normalny. \n",
    "\n",
    "#Zarówno 100 i 10000 obserwacji dają dobry estymat średniej.\n",
    "#Dla 100, % błędu wynosi 3.334%, a dla 10000 - 0.39%.\n",
    "#I tak, więcej obserwacji daje nam zdecydowanie lepszy wynik.\n",
    "#Co ciekawe, jeśli chodzi o odchylenie standardowe, obie liczby danych dają nam podobny % błędu - więcej obserwacji daje nam \n",
    "#nawet trochę większy błąd!\n",
    "\n",
    "#Moda nie wnosi nic do analizy, jakoże symulowane wartości są na tyle dokładne,\n",
    "#że żaden wynik nie powtórzył się więcej niż raz.\n",
    "\n",
    "#Zakres dla 10000 obserwacji jest większy - ma to sens, ponieważ im więcej mamy obserwacji,\n",
    "#tym większe prawdopodobieństwo, że zaobserwujemy obserwacje daleko od średniej."
   ]
  },
  {
   "cell_type": "code",
   "execution_count": null,
   "id": "600471bc-d1f9-4f4b-bd74-ba71e1a93f6e",
   "metadata": {},
   "outputs": [],
   "source": []
  }
 ],
 "metadata": {
  "kernelspec": {
   "display_name": "Python 3 (ipykernel)",
   "language": "python",
   "name": "python3"
  },
  "language_info": {
   "codemirror_mode": {
    "name": "ipython",
    "version": 3
   },
   "file_extension": ".py",
   "mimetype": "text/x-python",
   "name": "python",
   "nbconvert_exporter": "python",
   "pygments_lexer": "ipython3",
   "version": "3.12.5"
  }
 },
 "nbformat": 4,
 "nbformat_minor": 5
}
